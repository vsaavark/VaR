{
 "cells": [
  {
   "cell_type": "markdown",
   "id": "24c41725",
   "metadata": {},
   "source": [
    "# Value at Risk"
   ]
  },
  {
   "cell_type": "markdown",
   "id": "7810c70b",
   "metadata": {},
   "source": [
    "## Import Libraries"
   ]
  },
  {
   "cell_type": "code",
   "execution_count": 19,
   "id": "68a3a72a",
   "metadata": {},
   "outputs": [],
   "source": [
    "import numpy as np\n",
    "import pandas as pd\n",
    "import datetime as dt\n",
    "import yfinance as yf\n",
    "import matplotlib.pyplot as plt\n",
    "from scipy.stats import norm"
   ]
  },
  {
   "cell_type": "markdown",
   "id": "7e6886e5",
   "metadata": {},
   "source": [
    "## set time for number of years"
   ]
  },
  {
   "cell_type": "code",
   "execution_count": 4,
   "id": "c193a50d",
   "metadata": {},
   "outputs": [],
   "source": [
    "years = 15\n",
    "\n",
    "endDate = dt.datetime.now()\n",
    "startDate= endDate - dt.timedelta(days= 365*years)"
   ]
  },
  {
   "cell_type": "markdown",
   "id": "d5c1dccf",
   "metadata": {},
   "source": [
    "### tickers"
   ]
  },
  {
   "cell_type": "code",
   "execution_count": 5,
   "id": "a4e0184f",
   "metadata": {},
   "outputs": [],
   "source": [
    "tickers=['SPY', 'BND', 'GLD','QQQ', 'VTI']"
   ]
  },
  {
   "cell_type": "markdown",
   "id": "e1a38330",
   "metadata": {},
   "source": [
    "### Download daily adjusted close prices"
   ]
  },
  {
   "cell_type": "code",
   "execution_count": 8,
   "id": "1a69fa1c",
   "metadata": {},
   "outputs": [
    {
     "name": "stdout",
     "output_type": "stream",
     "text": [
      "[*********************100%***********************]  1 of 1 completed\n",
      "                   SPY\n",
      "Date                  \n",
      "2009-07-23   73.857979\n",
      "2009-07-24   74.160507\n",
      "2009-07-27   74.379852\n",
      "2009-07-28   74.031960\n",
      "2009-07-29   73.850449\n",
      "...                ...\n",
      "2024-07-12  559.989990\n",
      "2024-07-15  561.530029\n",
      "2024-07-16  564.859985\n",
      "2024-07-17  556.940002\n",
      "2024-07-18  552.659973\n",
      "\n",
      "[3772 rows x 1 columns]\n",
      "[*********************100%***********************]  1 of 1 completed\n",
      "                   SPY        BND\n",
      "Date                             \n",
      "2009-07-23   73.857979  50.613537\n",
      "2009-07-24   74.160507  50.633057\n",
      "2009-07-27   74.379852  50.567989\n",
      "2009-07-28   74.031960  50.620026\n",
      "2009-07-29   73.850449  50.600510\n",
      "...                ...        ...\n",
      "2024-07-12  559.989990  72.980003\n",
      "2024-07-15  561.530029  72.750000\n",
      "2024-07-16  564.859985  73.029999\n",
      "2024-07-17  556.940002  73.099998\n",
      "2024-07-18  552.659973  72.910004\n",
      "\n",
      "[3772 rows x 2 columns]\n",
      "[*********************100%***********************]  1 of 1 completed\n",
      "                   SPY        BND         GLD\n",
      "Date                                         \n",
      "2009-07-23   73.857979  50.613537   93.260002\n",
      "2009-07-24   74.160507  50.633057   93.410004\n",
      "2009-07-27   74.379852  50.567989   93.709999\n",
      "2009-07-28   74.031960  50.620026   92.110001\n",
      "2009-07-29   73.850449  50.600510   91.199997\n",
      "...                ...        ...         ...\n",
      "2024-07-12  559.989990  72.980003  223.110001\n",
      "2024-07-15  561.530029  72.750000  223.830002\n",
      "2024-07-16  564.859985  73.029999  228.289993\n",
      "2024-07-17  556.940002  73.099998  227.229996\n",
      "2024-07-18  552.659973  72.910004  225.779999\n",
      "\n",
      "[3772 rows x 3 columns]\n",
      "[*********************100%***********************]  1 of 1 completed\n",
      "                   SPY        BND         GLD         QQQ\n",
      "Date                                                     \n",
      "2009-07-23   73.857979  50.613537   93.260002   34.383900\n",
      "2009-07-24   74.160507  50.633057   93.410004   34.121758\n",
      "2009-07-27   74.379852  50.567989   93.709999   34.383900\n",
      "2009-07-28   74.031960  50.620026   92.110001   34.147968\n",
      "2009-07-29   73.850449  50.600510   91.199997   34.375156\n",
      "...                ...        ...         ...         ...\n",
      "2024-07-12  559.989990  72.980003  223.110001  494.820007\n",
      "2024-07-15  561.530029  72.750000  223.830002  496.149994\n",
      "2024-07-16  564.859985  73.029999  228.289993  496.339996\n",
      "2024-07-17  556.940002  73.099998  227.229996  481.769989\n",
      "2024-07-18  552.659973  72.910004  225.779999  479.489990\n",
      "\n",
      "[3772 rows x 4 columns]\n",
      "[*********************100%***********************]  1 of 1 completed\n",
      "                   SPY        BND         GLD         QQQ         VTI\n",
      "Date                                                                 \n",
      "2009-07-23   73.857979  50.613537   93.260002   34.383900   37.405296\n",
      "2009-07-24   74.160507  50.633057   93.410004   34.121758   37.526848\n",
      "2009-07-27   74.379852  50.567989   93.709999   34.383900   37.686413\n",
      "2009-07-28   74.031960  50.620026   92.110001   34.147968   37.595242\n",
      "2009-07-29   73.850449  50.600510   91.199997   34.375156   37.412880\n",
      "...                ...        ...         ...         ...         ...\n",
      "2024-07-12  559.989990  72.980003  223.110001  494.820007  275.640015\n",
      "2024-07-15  561.530029  72.750000  223.830002  496.149994  276.820007\n",
      "2024-07-16  564.859985  73.029999  228.289993  496.339996  279.100006\n",
      "2024-07-17  556.940002  73.099998  227.229996  481.769989  275.160004\n",
      "2024-07-18  552.659973  72.910004  225.779999  479.489990  272.760010\n",
      "\n",
      "[3772 rows x 5 columns]\n"
     ]
    }
   ],
   "source": [
    "adj_close_df= pd.DataFrame()\n",
    "\n",
    "for ticker in tickers:\n",
    "    data = yf.download(ticker, start= startDate, end = endDate)\n",
    "    adj_close_df[ticker]= data['Adj Close']\n",
    "    \n",
    "    print(adj_close_df)"
   ]
  },
  {
   "cell_type": "markdown",
   "id": "05af6c63",
   "metadata": {},
   "source": [
    "## Claculate daily log returns and drop NAs"
   ]
  },
  {
   "cell_type": "code",
   "execution_count": 10,
   "id": "b5027193",
   "metadata": {},
   "outputs": [
    {
     "name": "stdout",
     "output_type": "stream",
     "text": [
      "                 SPY       BND       GLD       QQQ       VTI\n",
      "Date                                                        \n",
      "2009-07-24  0.004088  0.000386  0.001607 -0.007653  0.003244\n",
      "2009-07-27  0.002953 -0.001286  0.003206  0.007653  0.004243\n",
      "2009-07-28 -0.004688  0.001029 -0.017221 -0.006885 -0.002422\n",
      "2009-07-29 -0.002455 -0.000386 -0.009929  0.006631 -0.004862\n",
      "2009-07-30  0.010391  0.004492  0.004595  0.005830  0.010706\n",
      "...              ...       ...       ...       ...       ...\n",
      "2024-07-12  0.006288  0.002607 -0.000627  0.005858  0.006588\n",
      "2024-07-15  0.002746 -0.003157  0.003222  0.002684  0.004272\n",
      "2024-07-16  0.005913  0.003841  0.019730  0.000383  0.008203\n",
      "2024-07-17 -0.014120  0.000958 -0.004654 -0.029794 -0.014217\n",
      "2024-07-18 -0.007715 -0.002602 -0.006402 -0.004744 -0.008760\n",
      "\n",
      "[3771 rows x 5 columns]\n"
     ]
    }
   ],
   "source": [
    "log_returns= np.log(adj_close_df/adj_close_df.shift(1))\n",
    "log_returns = log_returns.dropna()\n",
    "\n",
    "print (log_returns)"
   ]
  },
  {
   "cell_type": "markdown",
   "id": "db7175cb",
   "metadata": {},
   "source": [
    "## Create an equally weighted portfolio\n"
   ]
  },
  {
   "cell_type": "code",
   "execution_count": 11,
   "id": "406c318b",
   "metadata": {},
   "outputs": [
    {
     "name": "stdout",
     "output_type": "stream",
     "text": [
      "[0.2 0.2 0.2 0.2 0.2]\n"
     ]
    }
   ],
   "source": [
    "portfolio_value= 1000000\n",
    "weights = np.array([1/len(tickers)]*len(tickers))\n",
    "print(weights)"
   ]
  },
  {
   "cell_type": "markdown",
   "id": "40c98849",
   "metadata": {},
   "source": [
    "## calculate historical returns"
   ]
  },
  {
   "cell_type": "code",
   "execution_count": 13,
   "id": "c33d031e",
   "metadata": {},
   "outputs": [
    {
     "name": "stdout",
     "output_type": "stream",
     "text": [
      "Date\n",
      "2009-07-24    0.000334\n",
      "2009-07-27    0.003354\n",
      "2009-07-28   -0.006038\n",
      "2009-07-29   -0.002200\n",
      "2009-07-30    0.007203\n",
      "                ...   \n",
      "2024-07-12    0.004143\n",
      "2024-07-15    0.001954\n",
      "2024-07-16    0.007614\n",
      "2024-07-17   -0.012366\n",
      "2024-07-18   -0.006045\n",
      "Length: 3771, dtype: float64\n"
     ]
    }
   ],
   "source": [
    "historical_returns = (log_returns * weights).sum(axis=1)\n",
    "print(historical_returns)"
   ]
  },
  {
   "cell_type": "markdown",
   "id": "ee83e5ca",
   "metadata": {},
   "source": [
    "## Find X-day historical returns"
   ]
  },
  {
   "cell_type": "code",
   "execution_count": 14,
   "id": "c6cd93f0",
   "metadata": {},
   "outputs": [
    {
     "name": "stdout",
     "output_type": "stream",
     "text": [
      "Date\n",
      "2009-07-30    0.002653\n",
      "2009-07-31    0.006926\n",
      "2009-08-03    0.013626\n",
      "2009-08-04    0.022468\n",
      "2009-08-05    0.021812\n",
      "                ...   \n",
      "2024-07-12    0.007509\n",
      "2024-07-15    0.010981\n",
      "2024-07-16    0.018023\n",
      "2024-07-17   -0.001212\n",
      "2024-07-18   -0.004700\n",
      "Length: 3767, dtype: float64\n"
     ]
    }
   ],
   "source": [
    "days= 5\n",
    "range_returns = historical_returns.rolling(window=days).sum()\n",
    "range_returns = range_returns.dropna()\n",
    "print(range_returns)"
   ]
  },
  {
   "cell_type": "markdown",
   "id": "d1a99865",
   "metadata": {},
   "source": [
    "### Specify a confidence interval and calculate the VaR using historical method"
   ]
  },
  {
   "cell_type": "code",
   "execution_count": 15,
   "id": "4d0cf285",
   "metadata": {},
   "outputs": [
    {
     "name": "stdout",
     "output_type": "stream",
     "text": [
      "23784.60307291399\n"
     ]
    }
   ],
   "source": [
    "confidence_interval = 0.95\n",
    "\n",
    "VaR = -np.percentile(range_returns, 100 - (confidence_interval*100))* portfolio_value\n",
    "print(VaR)"
   ]
  },
  {
   "cell_type": "markdown",
   "id": "65daa904",
   "metadata": {},
   "source": [
    "## Plot the results of historical returns"
   ]
  },
  {
   "cell_type": "code",
   "execution_count": 20,
   "id": "3ce76796",
   "metadata": {},
   "outputs": [
    {
     "data": {
      "image/png": "[encoded data removed]",
      "text/plain": [
       "<Figure size 640x480 with 1 Axes>"
      ]
     },
     "metadata": {},
     "output_type": "display_data"
    }
   ],
   "source": [
    "return_window = days\n",
    "range_returns = historical_returns.rolling(window=return_window).sum()\n",
    "range_returns = range_returns.dropna()\n",
    "\n",
    "range_returns_dollar = range_returns * portfolio_value\n",
    "\n",
    "plt.hist(range_returns_dollar.dropna(), bins=50, density=True)\n",
    "plt.xlabel(f'{return_window}-Day Portfolio Return (Dollar Value)')\n",
    "plt.ylabel('Frequency')\n",
    "plt.title(f'Distribution of Portfolio {return_window}-Day Returns (Dollar Value)')\n",
    "plt.axvline(-VaR, color='r', linestyle='dashed', linewidth=2, label=f'VaR at {confidence_interval:.0%} confidence level')\n",
    "plt.legend()\n",
    "plt.show()"
   ]
  },
  {
   "cell_type": "code",
   "execution_count": null,
   "id": "0110776a",
   "metadata": {},
   "outputs": [],
   "source": []
  }
 ],
 "metadata": {
  "kernelspec": {
   "display_name": "Python 3 (ipykernel)",
   "language": "python",
   "name": "python3"
  },
  "language_info": {
   "codemirror_mode": {
    "name": "ipython",
    "version": 3
   },
   "file_extension": ".py",
   "mimetype": "text/x-python",
   "name": "python",
   "nbconvert_exporter": "python",
   "pygments_lexer": "ipython3",
   "version": "3.11.4"
  }
 },
 "nbformat": 4,
 "nbformat_minor": 5
}
