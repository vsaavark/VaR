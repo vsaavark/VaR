{
 "cells": [
  {
   "cell_type": "markdown",
   "id": "bd42af67",
   "metadata": {},
   "source": [
    "# Value at Risk - Monte Carlo Method"
   ]
  },
  {
   "cell_type": "markdown",
   "id": "295ff666",
   "metadata": {},
   "source": [
    "### Import libraries"
   ]
  },
  {
   "cell_type": "code",
   "execution_count": 1,
   "id": "4ed2772f",
   "metadata": {},
   "outputs": [],
   "source": [
    "import numpy as np\n",
    "import pandas as pd\n",
    "import datetime as dt\n",
    "import yfinance as yf\n",
    "import matplotlib.pyplot as plt\n",
    "from scipy.stats import norm"
   ]
  },
  {
   "cell_type": "markdown",
   "id": "b98a54aa",
   "metadata": {},
   "source": [
    "## set time for number of years"
   ]
  },
  {
   "cell_type": "code",
   "execution_count": 2,
   "id": "c18449bd",
   "metadata": {},
   "outputs": [],
   "source": [
    "years = 15\n",
    "\n",
    "endDate = dt.datetime.now()\n",
    "startDate= endDate - dt.timedelta(days= 365*years)"
   ]
  },
  {
   "cell_type": "markdown",
   "id": "42b724c1",
   "metadata": {},
   "source": [
    "### tickers"
   ]
  },
  {
   "cell_type": "code",
   "execution_count": 3,
   "id": "9f719c6a",
   "metadata": {},
   "outputs": [],
   "source": [
    "tickers=['SPY', 'BND', 'GLD','QQQ', 'VTI']"
   ]
  },
  {
   "cell_type": "markdown",
   "id": "32a6c91c",
   "metadata": {},
   "source": [
    "### Download daily adjusted close prices"
   ]
  },
  {
   "cell_type": "code",
   "execution_count": 4,
   "id": "1685ef9f",
   "metadata": {},
   "outputs": [
    {
     "name": "stdout",
     "output_type": "stream",
     "text": [
      "[*********************100%***********************]  1 of 1 completed\n",
      "                   SPY\n",
      "Date                  \n",
      "2009-07-23   73.858017\n",
      "2009-07-24   74.160553\n",
      "2009-07-27   74.379868\n",
      "2009-07-28   74.031952\n",
      "2009-07-29   73.850456\n",
      "...                ...\n",
      "2024-07-15  561.530029\n",
      "2024-07-16  564.859985\n",
      "2024-07-17  556.940002\n",
      "2024-07-18  552.659973\n",
      "2024-07-19  548.900024\n",
      "\n",
      "[3773 rows x 1 columns]\n",
      "[*********************100%***********************]  1 of 1 completed\n",
      "                   SPY        BND\n",
      "Date                             \n",
      "2009-07-23   73.858017  50.613537\n",
      "2009-07-24   74.160553  50.633068\n",
      "2009-07-27   74.379868  50.567993\n",
      "2009-07-28   74.031952  50.620056\n",
      "2009-07-29   73.850456  50.600525\n",
      "...                ...        ...\n",
      "2024-07-15  561.530029  72.750000\n",
      "2024-07-16  564.859985  73.029999\n",
      "2024-07-17  556.940002  73.099998\n",
      "2024-07-18  552.659973  72.910004\n",
      "2024-07-19  548.900024  72.720001\n",
      "\n",
      "[3773 rows x 2 columns]\n",
      "[*********************100%***********************]  1 of 1 completed\n",
      "                   SPY        BND         GLD\n",
      "Date                                         \n",
      "2009-07-23   73.858017  50.613537   93.260002\n",
      "2009-07-24   74.160553  50.633068   93.410004\n",
      "2009-07-27   74.379868  50.567993   93.709999\n",
      "2009-07-28   74.031952  50.620056   92.110001\n",
      "2009-07-29   73.850456  50.600525   91.199997\n",
      "...                ...        ...         ...\n",
      "2024-07-15  561.530029  72.750000  223.830002\n",
      "2024-07-16  564.859985  73.029999  228.289993\n",
      "2024-07-17  556.940002  73.099998  227.229996\n",
      "2024-07-18  552.659973  72.910004  225.779999\n",
      "2024-07-19  548.900024  72.720001  221.729996\n",
      "\n",
      "[3773 rows x 3 columns]\n",
      "[*********************100%***********************]  1 of 1 completed\n",
      "                   SPY        BND         GLD         QQQ\n",
      "Date                                                     \n",
      "2009-07-23   73.858017  50.613537   93.260002   34.383896\n",
      "2009-07-24   74.160553  50.633068   93.410004   34.121754\n",
      "2009-07-27   74.379868  50.567993   93.709999   34.383896\n",
      "2009-07-28   74.031952  50.620056   92.110001   34.147995\n",
      "2009-07-29   73.850456  50.600525   91.199997   34.375156\n",
      "...                ...        ...         ...         ...\n",
      "2024-07-15  561.530029  72.750000  223.830002  496.149994\n",
      "2024-07-16  564.859985  73.029999  228.289993  496.339996\n",
      "2024-07-17  556.940002  73.099998  227.229996  481.769989\n",
      "2024-07-18  552.659973  72.910004  225.779999  479.489990\n",
      "2024-07-19  548.900024  72.720001  221.729996  475.239990\n",
      "\n",
      "[3773 rows x 4 columns]\n",
      "[*********************100%***********************]  1 of 1 completed\n",
      "                   SPY        BND         GLD         QQQ         VTI\n",
      "Date                                                                 \n",
      "2009-07-23   73.858017  50.613537   93.260002   34.383896   37.405277\n",
      "2009-07-24   74.160553  50.633068   93.410004   34.121754   37.526844\n",
      "2009-07-27   74.379868  50.567993   93.709999   34.383896   37.686420\n",
      "2009-07-28   74.031952  50.620056   92.110001   34.147995   37.595222\n",
      "2009-07-29   73.850456  50.600525   91.199997   34.375156   37.412888\n",
      "...                ...        ...         ...         ...         ...\n",
      "2024-07-15  561.530029  72.750000  223.830002  496.149994  276.820007\n",
      "2024-07-16  564.859985  73.029999  228.289993  496.339996  279.100006\n",
      "2024-07-17  556.940002  73.099998  227.229996  481.769989  275.160004\n",
      "2024-07-18  552.659973  72.910004  225.779999  479.489990  272.760010\n",
      "2024-07-19  548.900024  72.720001  221.729996  475.239990  271.059998\n",
      "\n",
      "[3773 rows x 5 columns]\n"
     ]
    }
   ],
   "source": [
    "adj_close_df= pd.DataFrame()\n",
    "\n",
    "for ticker in tickers:\n",
    "    data = yf.download(ticker, start= startDate, end = endDate)\n",
    "    adj_close_df[ticker]= data['Adj Close']\n",
    "    \n",
    "    print(adj_close_df)"
   ]
  },
  {
   "cell_type": "markdown",
   "id": "7f84bc3f",
   "metadata": {},
   "source": [
    "### Claculate daily log returns and drop NAs"
   ]
  },
  {
   "cell_type": "code",
   "execution_count": 5,
   "id": "d48ab44d",
   "metadata": {},
   "outputs": [
    {
     "name": "stdout",
     "output_type": "stream",
     "text": [
      "                 SPY       BND       GLD       QQQ       VTI\n",
      "Date                                                        \n",
      "2009-07-24  0.004088  0.000386  0.001607 -0.007653  0.003245\n",
      "2009-07-27  0.002953 -0.001286  0.003206  0.007653  0.004243\n",
      "2009-07-28 -0.004689  0.001029 -0.017221 -0.006884 -0.002423\n",
      "2009-07-29 -0.002455 -0.000386 -0.009929  0.006630 -0.004862\n",
      "2009-07-30  0.010391  0.004491  0.004595  0.005830  0.010706\n",
      "...              ...       ...       ...       ...       ...\n",
      "2024-07-15  0.002746 -0.003157  0.003222  0.002684  0.004272\n",
      "2024-07-16  0.005913  0.003841  0.019730  0.000383  0.008203\n",
      "2024-07-17 -0.014120  0.000958 -0.004654 -0.029794 -0.014217\n",
      "2024-07-18 -0.007715 -0.002602 -0.006402 -0.004744 -0.008760\n",
      "2024-07-19 -0.006827 -0.002609 -0.018101 -0.008903 -0.006252\n",
      "\n",
      "[3772 rows x 5 columns]\n"
     ]
    }
   ],
   "source": [
    "log_returns= np.log(adj_close_df/adj_close_df.shift(1))\n",
    "log_returns = log_returns.dropna()\n",
    "\n",
    "print (log_returns)"
   ]
  },
  {
   "cell_type": "markdown",
   "id": "79143369",
   "metadata": {},
   "source": [
    "### Create a function to calculate portfolio expected return"
   ]
  },
  {
   "cell_type": "code",
   "execution_count": 23,
   "id": "aa8b5bc7",
   "metadata": {},
   "outputs": [],
   "source": [
    "def expected_return(weight, log_returns):\n",
    "    return np.sum(log_returns.mean()*weights)"
   ]
  },
  {
   "cell_type": "markdown",
   "id": "9ae6caa8",
   "metadata": {},
   "source": [
    "### Function to calculate portfolio standard deviation"
   ]
  },
  {
   "cell_type": "code",
   "execution_count": 24,
   "id": "76c625a5",
   "metadata": {},
   "outputs": [],
   "source": [
    "def standard_deviation (weights, cov_matrix):\n",
    "    variance = weights.T@cov_matrix@weights\n",
    "    return np.sqrt(variance)"
   ]
  },
  {
   "cell_type": "markdown",
   "id": "2bde46e4",
   "metadata": {},
   "source": [
    "### Create a covariance matrix"
   ]
  },
  {
   "cell_type": "code",
   "execution_count": 25,
   "id": "7d50ff1b",
   "metadata": {},
   "outputs": [
    {
     "name": "stdout",
     "output_type": "stream",
     "text": [
      "              SPY           BND       GLD           QQQ           VTI\n",
      "SPY  1.164759e-04 -8.105420e-08  0.000006  1.284640e-04  1.189313e-04\n",
      "BND -8.105420e-08  9.188540e-06  0.000009  7.641369e-07  1.035353e-07\n",
      "GLD  6.477642e-06  8.777065e-06  0.000097  7.327408e-06  7.091906e-06\n",
      "QQQ  1.284640e-04  7.641369e-07  0.000007  1.645877e-04  1.312520e-04\n",
      "VTI  1.189313e-04  1.035353e-07  0.000007  1.312520e-04  1.224257e-04\n"
     ]
    }
   ],
   "source": [
    "cov_matrix = log_returns.cov()\n",
    "print(cov_matrix)"
   ]
  },
  {
   "cell_type": "markdown",
   "id": "ec86850a",
   "metadata": {},
   "source": [
    "### create an equally weighted portfolio"
   ]
  },
  {
   "cell_type": "code",
   "execution_count": 26,
   "id": "10f2630f",
   "metadata": {},
   "outputs": [],
   "source": [
    "portfolio_value= 1000000\n",
    "weights = np.array([1/len(tickers)]*len(tickers))\n",
    "portfolio_expected_return = expected_return(weights, log_returns)\n",
    "portfolio_std_dev = standard_deviation (weights, cov_matrix)"
   ]
  },
  {
   "cell_type": "markdown",
   "id": "0f4fcb07",
   "metadata": {},
   "source": [
    "### Create a function that gives a random z-score based on normal distribution"
   ]
  },
  {
   "cell_type": "code",
   "execution_count": 27,
   "id": "17f7aae9",
   "metadata": {},
   "outputs": [],
   "source": [
    "def random_z_score():\n",
    "    return np.random.normal(0,1)"
   ]
  },
  {
   "cell_type": "markdown",
   "id": "1043ddc8",
   "metadata": {},
   "source": [
    "### Create a functio to calculate scenarion gainloss"
   ]
  },
  {
   "cell_type": "code",
   "execution_count": 30,
   "id": "b6b71ce2",
   "metadata": {},
   "outputs": [],
   "source": [
    "days =5 \n",
    "def scenario_gain_loss(portfolio_value,portfolio_std_dev, z_score, days):\n",
    "    return portfolio_value * portfolio_expected_return* days + portfolio_value*portfolio_std_dev*z_score* np.sqrt(days)"
   ]
  },
  {
   "cell_type": "markdown",
   "id": "56d50434",
   "metadata": {},
   "source": [
    "### Run 10000 simulations"
   ]
  },
  {
   "cell_type": "code",
   "execution_count": 31,
   "id": "ef9ae5de",
   "metadata": {},
   "outputs": [],
   "source": [
    "simulations = 10000\n",
    "scenarioreturn = []\n",
    "\n",
    "for i in range(simulations):\n",
    "    z_score = random_z_score()\n",
    "    scenarioreturn.append(scenario_gain_loss(portfolio_value,portfolio_std_dev, z_score, days))"
   ]
  },
  {
   "cell_type": "markdown",
   "id": "8e2e0e7a",
   "metadata": {},
   "source": [
    "### Specify confidence intervals"
   ]
  },
  {
   "cell_type": "code",
   "execution_count": 35,
   "id": "b4e92349",
   "metadata": {},
   "outputs": [
    {
     "name": "stdout",
     "output_type": "stream",
     "text": [
      "25057.05619523313\n"
     ]
    }
   ],
   "source": [
    "confidence_interval = 0.95\n",
    "VaR = -np.percentile(scenarioreturn,100*(1-confidence_interval))\n",
    "print(VaR)"
   ]
  },
  {
   "cell_type": "markdown",
   "id": "e9489062",
   "metadata": {},
   "source": [
    "### Plot the results of 10000 scenarios"
   ]
  },
  {
   "cell_type": "code",
   "execution_count": 37,
   "id": "3c935836",
   "metadata": {},
   "outputs": [
    {
     "data": {
      "image/png": "[encoded data removed]",
      "text/plain": [
       "<Figure size 640x480 with 1 Axes>"
      ]
     },
     "metadata": {},
     "output_type": "display_data"
    }
   ],
   "source": [
    "plt.hist(scenarioreturn, bins=50, density=True)\n",
    "plt.xlabel('Scenario Gain/Loss($)')\n",
    "plt.ylabel('Frequency')\n",
    "plt.title(f'Distribution of Portfolio Gain/Loss over{days}Days')\n",
    "plt.axvline(-VaR, color='r', linestyle='dashed', linewidth=2, label=f'VaR at {confidence_interval:.0%} confidence level')\n",
    "plt.legend()\n",
    "plt.show()"
   ]
  },
  {
   "cell_type": "code",
   "execution_count": null,
   "id": "c95a7d15",
   "metadata": {},
   "outputs": [],
   "source": []
  }
 ],
 "metadata": {
  "kernelspec": {
   "display_name": "Python 3 (ipykernel)",
   "language": "python",
   "name": "python3"
  },
  "language_info": {
   "codemirror_mode": {
    "name": "ipython",
    "version": 3
   },
   "file_extension": ".py",
   "mimetype": "text/x-python",
   "name": "python",
   "nbconvert_exporter": "python",
   "pygments_lexer": "ipython3",
   "version": "3.11.4"
  }
 },
 "nbformat": 4,
 "nbformat_minor": 5
}
